{
 "cells": [
  {
   "cell_type": "markdown",
   "id": "43012200",
   "metadata": {},
   "source": [
    "Problem: <br>\n",
    "\n",
    "After identifying the exons and introns of an RNA string, we only need to delete the introns and concatenate the exons to form a new string ready for translation.\n",
    "\n",
    "Given: A DNA string s (of length at most 1 kbp) and a collection of substrings of s acting as introns. All strings are given in FASTA format.\n",
    "\n",
    "Return: A protein string resulting from transcribing and translating the exons of s. (Note: Only one solution will exist for the dataset provided.)"
   ]
  },
  {
   "cell_type": "code",
   "execution_count": 1,
   "id": "13c693c0",
   "metadata": {},
   "outputs": [],
   "source": [
    "# Import necessary packages for solution\n",
    "import re\n",
    "from Bio.Seq import Seq\n",
    "from Bio import SeqIO\n",
    "from Bio.SeqRecord import SeqRecord"
   ]
  },
  {
   "cell_type": "markdown",
   "id": "650a270d",
   "metadata": {},
   "source": [
    "We know that the given substrings are introns that can be found in the DNA sequence. Regular expressions (re) can be used to search the DNA sequence for these substrings. Once a substring is found within the DNA seqeunce, we can remove it from the DNA sequence. We repeat this each time a substring is found until all substrings are removed from the DNA sequence. Once the DNA sequence containing no introns is returned, we can translate the sequence to get the protein string.\n",
    "\n",
    "The two packages used in this soultion are `re` and `BioPython`. BioPython is used to traverse FASTA files and translate DNA strings while re is used to identify patterns in text. Please visit the origianl documentation for a more in depth look at the modules ([re](https://docs.python.org/3/library/re.html), [BioPython](https://biopython.org/wiki/Documentation).)\n",
    "\n",
    "The code splices a DNA sequence, translates the resulting sequence into a protein string, and writes protein string into a new FASTA file."
   ]
  },
  {
   "cell_type": "code",
   "execution_count": 2,
   "id": "5e6599ae",
   "metadata": {},
   "outputs": [],
   "source": [
    "fileName = 'rosalind_splc.txt'\n",
    "\n",
    "with open(fileName,'r') as f:\n",
    "    \n",
    "    first_line = True\n",
    "    regex_list = []\n",
    "    dna_string = ''\n",
    "    \n",
    "    # Assigns the first sequnce in the FASTA file to a varaible and adds all other seqeunces\n",
    "    # in the FASTA file to a list designated for all the substrings\n",
    "    for record in SeqIO.parse(f, 'fasta'):\n",
    "        if first_line == True:\n",
    "            dna_string = str(record.seq)\n",
    "            first_line = False\n",
    "        else:\n",
    "            regex_list.append(str(record.seq))\n",
    "\n",
    "    # Everytime you find a substring, replace it with an empty string ''\n",
    "    # This is equivalent to deleting the introns from the DNA string\n",
    "    for substring in regex_list:\n",
    "        dna_string = re.sub(substring, '', dna_string)            \n",
    "    \n",
    "    # Translate the remaining string into protein string\n",
    "    # Can go straight into translation of the DNA string assuming it is the coding strand\n",
    "    protein_string = Seq(dna_string).translate()\n",
    "    \n",
    "    # Write the protein seqeunce to a new Fasta File \n",
    "    protein_record = SeqRecord(protein_string, id = 'prot_01', description = 'protein string after splicing')\n",
    "    with open('RNA_Splicing.fasta', 'w') as f:\n",
    "        SeqIO.write(protein_record, f, 'fasta')\n"
   ]
  },
  {
   "cell_type": "code",
   "execution_count": null,
   "id": "a22d61ee",
   "metadata": {},
   "outputs": [],
   "source": []
  }
 ],
 "metadata": {
  "kernelspec": {
   "display_name": "Python 3",
   "language": "python",
   "name": "python3"
  },
  "language_info": {
   "codemirror_mode": {
    "name": "ipython",
    "version": 3
   },
   "file_extension": ".py",
   "mimetype": "text/x-python",
   "name": "python",
   "nbconvert_exporter": "python",
   "pygments_lexer": "ipython3",
   "version": "3.7.6"
  }
 },
 "nbformat": 4,
 "nbformat_minor": 5
}

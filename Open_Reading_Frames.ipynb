{
 "cells": [
  {
   "cell_type": "markdown",
   "id": "fdfac633",
   "metadata": {},
   "source": [
    "# Background\n",
    "\n",
    "Not all DNA will be transcribed into RNA: so-called junk DNA appears to have no practical purpose for cellular function. Second, we can begin translation at any position along a strand of RNA, meaning that any substring of a DNA string can serve as a template for translation, as long as it begins with a start codon, ends with a stop codon, and has no other stop codons in the middle. See Figure 1. As a result, the same RNA string can actually be translated in three different ways, depending on how we group triplets of symbols into codons. For example, ...AUGCUGAC... can be translated as ...AUGCUG..., ...UGCUGA..., and ...GCUGAC..., which will typically produce wildly different protein strings."
   ]
  },
  {
   "cell_type": "markdown",
   "id": "6a33d480",
   "metadata": {},
   "source": [
    "# Problem\n",
    "\n",
    "Either strand of a DNA double helix can serve as the coding strand for RNA transcription. Hence, a given DNA string implies six total reading frames, or ways in which the same region of DNA can be translated into amino acids: three reading frames result from reading the string itself, whereas three more result from reading its reverse complement.\n",
    "\n",
    "An open reading frame (ORF) is one which starts from the start codon and ends by stop codon, without any other stop codons in between. Thus, a candidate protein string is derived by translating an open reading frame into amino acids until a stop codon is reached.\n",
    "\n",
    "Given: A DNA string s of length at most 1 kbp in FASTA format.\n",
    "\n",
    "Return: Every distinct candidate protein string that can be translated from ORFs of s. Strings can be returned in any order."
   ]
  },
  {
   "cell_type": "markdown",
   "id": "ba8076f3",
   "metadata": {},
   "source": [
    "# Solution"
   ]
  },
  {
   "cell_type": "markdown",
   "id": "4854a880",
   "metadata": {},
   "source": [
    "We can start by searching both the DNA sequence and its reverse complement for start codons. The indices of all the start codons will then be used to begin translation starting from the indices found. This is accomplished with functions that find the indices of start codons in a given seqeunce and translate a DNA sequence into its protein. If the resulting protein begins with a start codon and ends in a stop codon, it is a valid candidate protein.\n",
    "\n",
    "[BioPython](https://docs.python.org/3/library/re.html) is used here to parse the FASTA file, import a DNA codon table, and return the reverse trancript of the sequence. Please visit the BioPython documentation for more information."
   ]
  },
  {
   "cell_type": "code",
   "execution_count": 1,
   "id": "99b6d305",
   "metadata": {},
   "outputs": [],
   "source": [
    "# Import necessary packages\n",
    "from Bio.Data.CodonTable import standard_dna_table\n",
    "codon_table = standard_dna_table.forward_table\n",
    "stop_codons = standard_dna_table.stop_codons\n",
    "from Bio import SeqIO\n",
    "from Bio.Seq import Seq"
   ]
  },
  {
   "cell_type": "code",
   "execution_count": 2,
   "id": "a39e4a58",
   "metadata": {},
   "outputs": [],
   "source": [
    "def translate(dna):\n",
    "    protein_string = ''\n",
    "    # Loop through the codons of the sequence\n",
    "    for i in range(0, len(dna), 3):\n",
    "        codon = dna[i:i+3]     \n",
    "        # Stops translation of DNA if a stop codon is met\n",
    "        if codon in stop_codons:\n",
    "            break\n",
    "        # Continues through translation if the codon is not a stop codon\n",
    "        else:\n",
    "            # If you reach the end of the sequence and no stop codon is met then it is not \n",
    "            # an open reading frame\n",
    "            if i >=(len(dna) - 3):\n",
    "                return\n",
    "            # Translate the codon and add it to the end of th protein string\n",
    "            aa = codon_table[codon]\n",
    "            protein_string = protein_string + aa     \n",
    "            \n",
    "    return protein_string"
   ]
  },
  {
   "cell_type": "code",
   "execution_count": 3,
   "id": "08830e43",
   "metadata": {},
   "outputs": [],
   "source": [
    "def find_start_codons(dna):\n",
    "    start_index = 0\n",
    "    indices = []\n",
    "    # Loop through the each nucleotide in the sequence\n",
    "    for i in range(0, len(dna)-3):\n",
    "        codon = dna[i:i+3]\n",
    "        if codon == 'ATG':\n",
    "            indices.append(i)     \n",
    "    return indices"
   ]
  },
  {
   "cell_type": "code",
   "execution_count": 4,
   "id": "61e2f2f5",
   "metadata": {
    "scrolled": true
   },
   "outputs": [],
   "source": [
    "filename = 'input_files/rosalind_orf.txt'\n",
    "\n",
    "with open(filename, 'r') as f:\n",
    "    iterator = SeqIO.parse(f, 'fasta')\n",
    "    # Read the sequence from the FASTA file and find its reverse complement \n",
    "    strand1 = str(next(iterator).seq)\n",
    "    strand2 = str(Seq(strand1).reverse_complement())\n",
    "    double_helix = [strand1, strand2]\n",
    "    \n",
    "    # This list will hold all distinct proteins that result from trsnlating the open reading\n",
    "    # frames of the sequences\n",
    "    all_proteins = []\n",
    "    \n",
    "    # Loop though each DNA strand and find the location of every start codon in the sequence\n",
    "    for strand in double_helix:   \n",
    "        start_codons = find_start_codons(strand)\n",
    "        # Translate the sequence starting from the found start codons\n",
    "        for index in start_codons:\n",
    "            temp_str = strand[index:]\n",
    "            protein = translate(temp_str)\n",
    "            # Add the result to the end of the protein list if it is a valid protein\n",
    "            if protein:\n",
    "                all_proteins.append(protein)\n",
    "        \n",
    "all_proteins = set(all_proteins)\n",
    "\n",
    "# Write all the distinct proteins to a new file\n",
    "with open('output_files/output.txt', 'w') as f:\n",
    "    f.write('All distinct proteins from the translated ORFs: \\n')\n",
    "    for protein in all_proteins:\n",
    "        f.write(f'{protein}\\n')"
   ]
  },
  {
   "cell_type": "code",
   "execution_count": 5,
   "id": "6876f22f",
   "metadata": {
    "scrolled": true
   },
   "outputs": [
    {
     "name": "stdout",
     "output_type": "stream",
     "text": [
      "All distinct proteins from the translated ORFs: \n",
      "MLTFVSI\n",
      "MIERRGR\n",
      "MGCLTRDANRSCLPLRNKGDSA\n",
      "MTIFSLLGLLRMLPYLKSKRTSTCRYSNCQKISDSQG\n",
      "MCRSGFRFNLVRGVFPEKVTNALHAGQTGLANPV\n",
      "MQ\n",
      "MYSSKIKGTMHYTPVRLG\n",
      "MEQCLVESI\n",
      "MRSGNVTNGLSDA\n",
      "MRVTTGLLGVVFA\n",
      "MIMQ\n",
      "MQVRTWGRPVSGSIFWSVSRGMRNMCPMTEWNSV\n",
      "MVRASRGTDIILGGVAFVP\n",
      "MRNMCPMTEWNSV\n",
      "MLSGICLHW\n",
      "MNHKRVNYK\n",
      "MD\n",
      "MCRNFSPFLYDHAVDLRLYV\n",
      "MSVPREARTIRKLLVIHSLVIHASPHVGATSIRFDLLVRFSGNAEYVSYDGMEQCLVESI\n",
      "M\n",
      "MII\n",
      "MSTRIPEAQRQPDASDYRAARCRVRLGSRSEGGRSPLGESYPWLSEIFWQLLYLHVDVRFDLRYGSIRRSPSSENIVILLLYD\n",
      "MTEWNSV\n",
      "MPLNMCRNFSPFLYDHAVDLRLYV\n",
      "MGAFVGAQVAKI\n",
      "MLPYLKSKRTSTCRYSNCQKISDSQG\n",
      "MCPMTEWNSV\n",
      "MHYTPVRLG\n",
      "MQIEVAYL\n",
      "MFTLVESVSSLALFYLLIGRGVRSCQQGFRKPSANLMRVTTGLLGVVFA\n",
      "\n"
     ]
    }
   ],
   "source": [
    "with open('output_files/output.txt', 'r') as f:\n",
    "    print(f.read())"
   ]
  }
 ],
 "metadata": {
  "kernelspec": {
   "display_name": "Python 3",
   "language": "python",
   "name": "python3"
  },
  "language_info": {
   "codemirror_mode": {
    "name": "ipython",
    "version": 3
   },
   "file_extension": ".py",
   "mimetype": "text/x-python",
   "name": "python",
   "nbconvert_exporter": "python",
   "pygments_lexer": "ipython3",
   "version": "3.7.6"
  }
 },
 "nbformat": 4,
 "nbformat_minor": 5
}

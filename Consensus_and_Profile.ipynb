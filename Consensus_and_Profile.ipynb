{
 "cells": [
  {
   "cell_type": "markdown",
   "id": "65044c43",
   "metadata": {},
   "source": [
    "# Background\n",
    "\n",
    "If we have several homologous strands that we wish to analyze simultaneously, then the natural problem is to find an average-case strand to represent the most likely common ancestor of the given strands. Say that we have a collection of DNA strings, all having the same length **n**. Their profile matrix is a 4×**n** matrix **P** in which P( 1, j ) represents the number of times that 'A' occurs in the jth position of one of the strings, P( 2, j ) represents the number of times that 'C' occurs in the jth position, and so on.\n",
    "\n",
    "A consensus string c is a string of length n formed from our collection by taking the most common symbol at each position; the jth symbol of c therefore corresponds to the symbol having the maximum value in the j-th column of the profile matrix. Of course, there may be more than one most common symbol, leading to multiple possible consensus strings.\n",
    "\n"
   ]
  },
  {
   "cell_type": "markdown",
   "id": "78fcd13f",
   "metadata": {},
   "source": [
    "# Problem\n",
    "\n",
    "Given: A collection of at most 10 DNA strings of equal length (at most 1 kbp) in FASTA format.\n",
    "\n",
    "Return: A consensus string and profile matrix for the collection. (If several possible consensus strings exist, then you may return any one of them.)\n",
    "\n",
    "## Sample Data\n",
    "\\>Rosalind_1 <br>\n",
    "ATCCAGCT <br>\n",
    "\\>Rosalind_2<br>\n",
    "GGGCAACT <br>\n",
    "\\>Rosalind_3<br>\n",
    "ATGGATCT <br>\n",
    "\\>Rosalind_4<br>\n",
    "AAGCAACC <br>\n",
    "\\>Rosalind_5<br>\n",
    "TTGGAACT <br>\n",
    "\\>Rosalind_6<br>\n",
    "ATGCCATT <br>\n",
    "\\>Rosalind_7<br>\n",
    "ATGGCACT\n",
    "\n",
    "## Sample Output\n",
    "\n",
    "ATGCAACT <br>\n",
    "A: 5 1 0 0 5 5 0 0 <br>\n",
    "C: 0 0 1 4 2 0 6 1 <br>\n",
    "G: 1 1 6 3 0 1 0 0 <br>\n",
    "T: 1 5 0 0 0 1 1 6"
   ]
  },
  {
   "cell_type": "markdown",
   "id": "a1ce4449",
   "metadata": {},
   "source": [
    "# Solution\n",
    "\n",
    "We have a number of DNA sequences with the same length and must keep count of how many times a nucleotide appears at each position among all sequences. Regular expressions can be used to find the index of each nucleotide along a given seq. A dictionary is usded to keep track of the nucleotides appearing at each position where the key is the nucleotide (A,C,G,T) and the value is a numpy array containing zeros. This dictionary will be used to create a profile matrix of the given DNA seqeunces and eventually a consensus string. \n",
    "\n",
    "The `re`, `numpy` and `BioPython` modules are used in this solution. [BioPython](https://docs.python.org/3/library/re.html) is used to parse the FASTA file. Please visit the documentation for more details."
   ]
  },
  {
   "cell_type": "code",
   "execution_count": 1,
   "id": "91c27aba",
   "metadata": {},
   "outputs": [],
   "source": [
    "# Import necessary packages\n",
    "import re\n",
    "import numpy as np\n",
    "from Bio import SeqIO"
   ]
  },
  {
   "cell_type": "code",
   "execution_count": 2,
   "id": "bb89d350",
   "metadata": {},
   "outputs": [],
   "source": [
    "sequences = []\n",
    "filename = 'input_files/rosalind_cons.txt'\n",
    "\n",
    "# BioPython is used to parse the FASTA file and add the sequences to a list\n",
    "with open(filename,'r') as f:\n",
    "    records = SeqIO.parse(f, 'fasta')\n",
    "    for record in records:\n",
    "        seq = str(record.seq)\n",
    "        sequences.append(seq)\n",
    "\n",
    "length = len(sequences[0])\n",
    "\n",
    "# This dictionary will hold the frequency count for each nucleotide at each index \n",
    "# The value will be a numpy array of length n, where n is the length of the seqeunces read\n",
    "# Each index in the numpy array corresponds to the index in the sequence\n",
    "profile_dict = {'A':np.zeros(length, dtype = int),\n",
    "                'C': np.zeros(length, dtype = int),\n",
    "                'G': np.zeros(length, dtype = int),\n",
    "                'T': np.zeros(length, dtype = int)}\n",
    "\n",
    "# Loop through each sequence and use the keys from the profile_dict to locate each nucleotide\n",
    "# with regular expressions\n",
    "for seq in sequences:\n",
    "    for key, val in profile_dict.items():\n",
    "        matches = re.finditer(key, seq)\n",
    "        # Get the index that each nucleotide appears at and increment the corresponding value \n",
    "        # in the profile_dict\n",
    "        for match in matches:\n",
    "            val[match.start()]+=1"
   ]
  },
  {
   "cell_type": "code",
   "execution_count": 3,
   "id": "788b935d",
   "metadata": {},
   "outputs": [],
   "source": [
    "# To form the consensus string we will use the profile dictionary we created \n",
    "# We can loop through the columns of the profile matrix and keep track of the highest count\n",
    "# We can append the nucleotide with the highest count to our consensus string\n",
    "rows = len(profile_dict)\n",
    "cols = len(list(profile_dict.values())[0])\n",
    "\n",
    "# Loop though the dictionary by column\n",
    "consensus_string = ''\n",
    "for column in range(0, cols):\n",
    "    largest_count = 0\n",
    "    most_freq_nuc = None\n",
    "    # Loop though each row in the matrix\n",
    "    for row in range(0, rows):\n",
    "        if list(profile_dict.values())[row][column] > largest_count:\n",
    "            largest_count = list(profile_dict.values())[row][column]\n",
    "            most_freq_nuc = list(profile_dict.keys())[row]\n",
    "    consensus_string += most_freq_nuc"
   ]
  },
  {
   "cell_type": "code",
   "execution_count": 4,
   "id": "ce5841f5",
   "metadata": {},
   "outputs": [],
   "source": [
    "with open('output_files/consensus_and_profile.txt', 'a') as f:\n",
    "    f.write(f'{consensus_string}\\n')\n",
    "    for key, val in profile_dict.items():\n",
    "        f.write(f'{key}: ')\n",
    "        for i in val:\n",
    "            f.write(f'{i} ')\n",
    "        f.write('\\n')"
   ]
  },
  {
   "cell_type": "code",
   "execution_count": 5,
   "id": "611211ec",
   "metadata": {},
   "outputs": [
    {
     "name": "stdout",
     "output_type": "stream",
     "text": [
      "AACACAGCAAACCTAAGGGTATTGACTCGCTAACAGAACATATACCAGAGATAAAAGGCGCGCCGCACGTTATAGGAGAATCACAGCAGCGAGACGGGTTCTACCAGGGCATACAGGAACGACTAACAAGAGGCGAAAGCCGTAAGTGTACGTCCCGAGGGGGCGCAACAGCCCGATGTGCTATTTAAAAACCTCGCCCGCCAACGCCCTTGATCAGCGGGGTTGACTAGGAAGAATCTACTGGAACGTCCAAGTGCAAGGCGGATATCGGGTGACAACCAATCCAAAGAGTACAGAACTCTAAAGCACCAAAACTAGACACAACGAAGAACCACGCAGTGAAAACGAGACCACGATGGAACGCGCCACCCCGGTAACACCCGTAGTATAGCGAACGTGACCTCGCGAAAGCCGGAGCCCAAAAAAAAAAGCCAATACACACCTCAGCATTCCTTAACACGTATATGCGACGGAATACCATGGACTCTGCGAGCACCGTATTACTAAGGTGCTAGACTTATACGGGCGCCGATCGACACCCCACGCAAGGAAGGCCTGAAGCAGCGCAGACCCAAGCAAACATACGCACAAGGTCCGTGGACACAGTACAAGCGCCCTCAAGGACAAAATAGAACGATAAAACTAAAAAGAGTCCTCGCGATGGCAGGCCAAGGTCCAAACACAGATATCGATCACGCCCGATAATGCCGGACGGGCATGGCCAAACTCGAGACACAGGTCGGATAACTAACCTCCACAATACGCGCCCACATATCGCACCCAGTGTGATGATCTTCCGACTCATCTGTGCATTCTTCACTAAGCCAAACGGATACCGCATGACAGAAAAATAAGAATGTAAACATAACTGGCGCGTCACAGAACGAGGCACCTGCCGCTTACCCAAAAA\n",
      "A: 3 4 2 4 1 3 1 2 5 5 4 1 3 3 3 5 2 3 3 1 4 3 1 2 4 1 2 2 2 2 2 4 3 2 3 2 5 3 1 5 0 4 2 4 2 1 3 1 3 1 4 2 4 5 5 3 1 0 2 1 2 2 1 0 1 1 4 2 2 2 2 3 2 4 0 2 3 2 4 4 1 3 4 2 3 2 0 5 2 0 3 4 2 4 1 2 0 3 1 2 2 0 4 2 3 4 2 2 3 0 6 0 3 2 5 1 2 4 4 2 2 7 2 2 5 4 2 3 4 2 3 1 3 1 2 3 5 3 2 3 2 3 0 3 5 2 2 3 1 4 2 3 3 0 2 1 0 4 3 0 0 3 2 0 3 2 3 4 2 4 2 2 1 1 3 4 3 0 3 1 1 2 4 1 2 2 4 5 5 4 4 2 1 2 3 1 1 2 2 2 1 1 3 4 2 2 1 2 2 2 3 1 4 0 1 3 2 1 3 2 1 3 2 3 3 6 2 4 3 2 2 4 3 2 5 4 1 1 2 5 0 1 2 2 5 4 2 3 2 1 1 3 3 0 3 3 1 4 3 1 2 2 3 2 4 1 3 1 2 3 3 2 1 1 4 2 5 3 2 2 3 6 2 3 3 6 3 4 2 5 2 3 4 2 4 2 4 3 2 1 1 1 4 4 3 3 2 3 1 3 3 3 6 4 0 2 3 3 4 1 4 2 3 4 2 1 4 4 3 4 3 1 0 3 3 2 1 5 0 2 2 3 3 4 4 1 2 4 1 4 2 4 3 2 0 4 2 3 2 4 5 2 2 1 1 2 2 3 2 2 1 1 3 2 2 4 4 2 3 2 0 1 3 1 4 2 2 4 3 3 3 2 3 4 3 3 1 1 1 5 2 2 2 2 2 2 0 4 4 3 3 0 2 2 1 4 1 2 3 2 4 5 4 4 4 3 3 3 4 3 0 2 2 7 3 2 3 3 3 2 4 1 2 3 1 4 2 0 3 1 1 1 2 2 3 4 4 1 6 1 1 0 5 1 4 2 3 1 1 4 2 2 2 5 4 1 3 2 2 4 3 1 3 5 2 2 2 2 1 1 2 3 1 1 3 2 1 1 3 5 3 2 3 2 1 4 3 2 1 3 0 1 2 4 2 4 2 2 2 3 2 3 3 2 3 3 2 3 3 2 2 5 1 2 2 4 3 6 2 2 0 2 4 0 2 0 3 4 2 0 4 5 2 2 2 3 2 3 4 4 3 2 4 2 3 2 4 5 2 3 1 3 2 5 3 1 1 4 3 3 2 4 2 3 2 3 3 3 1 3 4 3 3 4 1 2 3 0 2 0 5 3 4 1 3 3 1 5 1 4 3 2 0 1 0 1 3 2 0 5 4 1 2 4 1 5 4 4 7 1 3 1 3 3 2 2 3 0 3 6 3 4 1 1 3 4 4 4 4 3 3 2 3 2 3 2 2 1 1 1 5 2 2 2 3 6 3 3 3 3 4 3 1 3 2 3 2 4 6 3 3 6 2 4 1 4 3 4 3 2 3 3 0 2 4 2 2 3 2 2 3 6 3 3 5 2 2 1 3 1 1 4 2 1 2 3 2 4 1 0 3 0 2 5 3 3 2 1 1 2 7 3 4 2 3 1 5 3 3 3 3 2 3 6 1 5 4 1 2 3 4 3 3 3 2 2 4 2 3 3 0 4 2 1 0 3 2 2 1 3 2 5 3 4 2 2 2 2 5 2 2 1 4 1 1 2 1 2 5 3 2 3 3 3 0 2 2 2 1 4 2 3 1 5 3 2 2 3 2 2 2 3 3 1 2 0 0 2 4 2 3 4 5 1 0 2 4 4 4 2 1 1 4 1 3 2 2 2 2 4 4 1 4 2 4 3 6 3 4 5 4 3 4 4 1 5 3 1 2 4 4 4 3 2 3 0 3 3 1 0 3 3 2 2 2 2 1 2 3 0 3 2 4 3 1 1 4 2 0 2 4 1 2 2 3 2 1 3 2 2 1 3 2 2 1 5 3 6 5 4 \n",
      "C: 3 3 6 2 4 3 2 3 2 2 2 4 5 0 2 0 3 0 2 2 3 2 3 2 2 3 1 7 1 5 3 3 1 5 2 2 3 3 4 2 3 3 3 3 5 4 2 4 2 2 4 2 4 2 1 3 2 2 4 3 3 1 4 5 3 4 2 4 2 2 3 3 1 2 2 1 2 3 2 1 3 4 3 3 1 2 4 3 2 5 1 2 2 1 4 2 3 1 2 1 3 3 2 4 4 1 3 2 0 6 2 3 3 4 1 0 1 3 4 4 1 1 5 1 2 1 4 2 3 2 3 3 2 3 1 2 1 2 3 4 4 1 2 3 4 2 2 2 2 2 3 2 2 4 3 3 3 3 2 2 3 0 3 7 1 3 1 3 5 1 2 3 4 4 0 3 1 2 1 3 4 0 3 3 2 0 1 3 2 3 1 4 3 1 6 0 6 4 4 2 6 5 3 2 3 0 4 4 3 3 2 3 2 3 5 2 2 3 1 1 3 2 1 3 0 3 4 0 1 2 2 0 2 1 2 1 2 4 3 0 4 2 2 2 3 2 3 1 3 6 5 2 3 2 1 2 3 1 3 2 2 5 2 2 3 1 2 2 4 0 2 1 3 2 3 3 1 2 4 5 3 2 1 4 4 0 3 4 2 1 2 2 2 4 4 3 1 2 3 1 3 1 2 2 2 3 5 3 5 4 1 1 2 4 6 0 2 1 1 6 2 6 2 2 4 2 1 3 1 1 3 5 5 3 4 2 6 1 3 3 1 1 3 3 1 4 3 3 2 3 4 5 1 5 4 2 2 1 2 1 2 5 1 5 2 4 5 2 5 5 6 5 2 2 1 1 1 4 2 4 5 4 1 2 0 2 2 3 1 3 2 4 1 3 2 5 1 3 2 3 3 3 1 4 1 4 3 0 3 3 2 5 3 2 2 2 2 3 5 3 2 0 1 2 3 2 3 1 3 3 3 4 3 1 3 3 3 4 3 4 3 4 4 1 4 2 1 5 2 2 2 4 3 1 3 2 3 4 3 5 3 3 0 2 0 1 1 3 2 1 5 1 2 2 1 2 1 3 3 2 0 2 2 1 5 2 4 2 0 6 3 2 2 4 2 5 4 3 1 2 1 2 2 3 3 3 2 1 3 1 1 4 1 1 3 3 4 2 1 3 2 2 6 2 3 1 3 1 4 4 2 1 2 4 2 1 5 3 5 3 5 6 2 4 1 4 3 4 3 3 2 0 2 1 5 7 2 2 2 1 3 6 2 2 4 1 6 1 1 2 6 5 3 1 3 1 5 2 2 2 4 2 3 2 3 1 4 2 3 3 3 2 1 0 5 3 1 3 0 4 1 4 3 4 2 3 3 0 4 1 3 0 4 3 4 5 4 2 4 3 3 3 2 2 4 2 1 3 1 1 3 2 2 1 4 1 2 1 3 1 2 3 3 2 3 1 2 2 1 1 1 1 2 3 5 3 3 2 3 3 2 1 2 3 4 1 1 1 4 4 2 2 1 1 2 4 3 2 0 2 4 1 4 1 3 3 2 2 2 3 2 3 2 4 1 3 3 4 3 5 1 1 2 1 2 2 2 4 4 1 2 2 4 2 2 0 3 2 3 2 2 4 5 1 1 3 3 2 6 2 0 0 2 5 1 4 1 1 0 2 4 2 1 2 3 2 3 5 1 2 2 4 4 1 3 5 2 5 3 3 1 2 5 2 6 2 4 3 4 3 3 2 3 1 2 3 3 3 2 4 4 5 3 1 3 2 2 3 2 1 2 3 1 4 3 1 3 4 1 3 3 1 4 2 1 3 1 2 0 3 4 3 2 1 3 2 1 4 1 4 2 3 3 3 5 4 4 1 1 3 3 2 3 2 2 4 3 2 4 1 0 1 1 4 2 1 0 3 2 2 3 3 3 1 1 1 3 3 1 0 2 2 3 3 2 1 2 3 4 2 1 2 4 2 3 2 0 3 1 7 2 1 1 3 5 1 1 2 3 4 2 4 4 3 2 5 7 0 3 3 3 3 5 3 3 0 1 0 3 1 \n",
      "G: 3 2 1 1 1 1 4 2 2 2 1 2 1 2 2 3 4 4 4 2 1 1 1 3 4 3 3 0 4 0 1 2 3 1 2 3 2 2 3 0 2 2 1 2 3 2 3 5 3 4 2 2 1 1 4 1 6 4 3 4 2 5 2 3 6 4 4 3 4 2 1 2 3 2 5 4 2 4 1 3 1 3 2 3 3 4 4 2 4 2 5 3 4 4 3 3 4 5 2 3 3 2 3 2 1 2 5 5 5 3 1 3 3 1 1 5 4 2 0 1 4 1 3 2 1 4 2 3 2 4 1 5 4 3 4 2 2 2 4 0 2 4 3 3 1 6 2 4 2 3 2 4 1 4 2 3 5 1 5 6 4 4 4 2 5 3 3 2 1 1 5 2 2 2 4 1 1 5 1 5 4 1 2 2 2 3 1 2 3 2 2 2 3 2 0 7 2 3 2 4 0 1 3 2 2 5 2 1 2 0 0 4 0 1 4 2 3 3 4 4 4 4 3 0 5 1 2 1 3 6 4 2 2 6 1 4 2 2 1 3 3 3 3 3 1 1 3 4 0 3 3 3 2 5 2 4 3 4 3 4 3 3 4 6 3 3 2 2 2 4 5 4 1 4 2 2 2 2 3 1 1 0 1 0 1 3 3 1 3 4 4 1 2 3 0 5 4 2 2 3 3 3 1 3 2 4 3 1 3 1 3 3 0 1 2 3 2 4 1 1 3 1 2 3 1 5 2 2 5 2 2 1 0 2 1 4 1 2 5 0 5 3 2 1 2 3 5 2 6 1 0 1 3 0 5 1 2 5 3 2 2 1 4 2 4 2 1 3 0 2 1 1 5 3 2 2 2 3 2 3 2 2 4 3 4 5 1 2 2 2 4 3 5 2 3 0 6 2 5 0 2 2 1 1 4 2 4 4 1 2 4 4 3 5 4 1 4 3 0 2 2 3 3 1 2 3 1 3 1 2 5 3 2 1 3 0 3 2 3 2 1 2 3 2 1 2 5 2 2 3 1 2 2 2 0 2 2 2 0 2 5 2 2 3 3 1 5 3 5 2 0 5 3 1 3 3 3 2 3 0 3 5 4 2 3 2 3 2 5 1 4 3 4 2 3 0 2 4 2 0 2 2 3 2 0 2 3 6 5 1 5 2 0 3 4 1 1 2 1 2 2 3 1 3 4 4 2 5 2 0 3 3 3 1 3 2 2 1 2 2 2 1 2 3 5 4 2 0 4 4 1 4 5 5 2 0 2 4 3 2 4 1 2 4 1 5 0 3 4 3 1 2 3 2 3 4 1 1 2 3 4 2 1 2 3 4 3 3 3 1 1 5 4 1 1 2 5 3 4 5 1 3 2 4 2 4 2 3 1 3 2 4 3 4 3 1 2 1 2 1 1 5 4 1 2 3 2 2 1 3 1 5 2 3 2 4 3 3 1 1 3 2 3 3 2 2 2 3 4 4 3 4 1 3 1 1 3 6 3 5 3 3 3 4 2 2 4 4 1 2 3 2 6 4 2 1 2 2 2 3 2 2 2 3 4 1 1 1 1 3 5 2 2 0 4 2 4 3 2 0 4 2 1 3 0 1 5 2 1 5 4 2 2 5 3 7 3 2 1 4 5 2 0 1 3 1 2 3 0 3 2 5 0 0 3 1 1 5 4 0 0 3 4 1 2 0 1 2 3 3 3 2 1 1 3 1 1 1 3 2 4 1 3 5 3 4 3 2 2 2 2 1 0 2 2 2 4 3 1 0 1 3 0 4 1 4 3 4 3 2 3 3 2 3 3 3 2 3 5 1 2 2 1 1 2 2 3 4 3 4 2 3 0 3 2 3 1 2 4 2 1 3 2 4 2 1 1 1 4 2 5 4 3 3 2 2 2 4 0 3 1 4 3 2 1 4 2 3 2 1 1 0 1 2 6 1 2 2 4 1 3 2 3 3 3 4 2 2 4 0 4 5 2 4 3 4 2 2 3 0 3 6 2 2 1 4 2 4 5 1 1 4 0 1 4 0 0 5 3 1 1 1 2 3 3 1 3 3 0 2 \n",
      "T: 1 1 1 3 4 3 3 3 1 1 3 3 1 5 3 2 1 3 1 5 2 4 5 3 0 3 4 1 3 3 4 1 3 2 3 3 0 2 2 3 5 1 4 1 0 3 2 0 2 3 0 4 1 2 0 3 1 4 1 2 3 2 3 2 0 1 0 1 2 4 4 2 4 2 3 3 3 1 3 2 5 0 1 2 3 2 2 0 2 3 1 1 2 1 2 3 3 1 5 4 2 5 1 2 2 3 0 1 2 1 1 4 1 3 3 4 3 1 2 3 3 1 0 5 2 1 2 2 1 2 3 1 1 3 3 3 2 3 1 3 2 2 5 1 0 0 4 1 5 1 3 1 4 2 3 3 2 2 0 2 3 3 1 1 1 2 3 1 2 4 1 3 3 3 3 2 5 3 5 1 1 7 1 4 4 5 4 0 0 1 3 2 3 5 1 2 1 1 2 2 3 3 1 2 3 3 3 3 3 5 5 2 4 6 0 3 3 3 2 3 2 1 4 4 2 0 2 5 3 0 2 4 3 1 2 1 5 3 4 2 3 4 3 3 1 3 2 2 5 0 1 2 2 3 4 1 3 1 1 3 3 0 1 0 0 5 3 5 2 3 0 3 5 3 1 3 2 3 1 2 3 2 6 3 2 1 1 1 3 0 2 4 2 1 2 0 1 3 3 5 3 5 3 1 3 0 0 3 1 2 3 3 2 1 2 5 3 2 4 2 1 1 3 1 3 2 3 1 1 3 2 3 5 2 2 2 2 2 2 5 2 3 2 2 3 2 0 1 1 2 4 0 3 3 1 3 4 1 3 3 1 2 3 2 3 2 2 2 3 1 2 3 0 3 5 3 3 1 3 1 3 3 2 4 2 1 5 1 4 2 1 1 1 1 2 2 2 4 2 2 3 3 6 3 3 2 3 2 2 2 1 1 2 1 3 3 3 2 2 3 2 2 2 3 1 2 3 3 2 2 2 1 3 1 1 5 1 1 1 2 2 3 1 4 4 2 2 3 3 4 6 3 3 5 4 2 1 3 1 2 1 5 3 4 3 6 1 3 2 3 3 2 3 2 2 4 3 3 2 4 4 2 1 2 0 4 1 4 4 2 1 2 3 3 2 3 3 2 4 3 4 4 2 3 6 1 2 1 1 5 4 3 7 2 1 2 3 4 6 2 4 2 0 3 0 2 3 1 1 4 3 1 4 3 3 3 0 0 1 3 3 1 2 3 2 2 2 2 1 3 3 1 1 2 1 0 4 1 1 3 0 1 2 2 2 2 0 1 3 2 2 0 2 2 1 4 3 3 3 2 0 2 4 3 2 2 0 2 3 3 2 0 2 5 3 3 1 4 4 1 3 0 1 1 3 0 4 2 4 2 2 4 3 2 3 3 1 5 4 1 2 1 2 3 3 0 3 1 1 5 3 2 3 3 2 3 2 6 3 2 2 1 3 4 2 3 2 1 1 2 3 3 4 2 1 4 2 1 3 1 0 4 3 1 1 1 2 2 2 1 1 3 2 2 4 2 3 2 2 2 1 1 2 2 2 2 4 3 4 2 0 2 6 4 1 3 1 0 3 3 2 1 4 3 3 5 1 3 2 3 3 2 2 2 3 0 2 2 5 4 0 4 3 3 3 3 3 4 3 3 1 2 4 3 3 4 3 1 3 5 3 3 2 1 4 3 2 2 4 2 1 1 2 5 2 2 3 2 1 2 5 3 0 2 1 1 1 3 3 2 3 2 4 3 4 3 1 2 2 4 3 1 3 4 5 2 4 1 0 4 3 1 4 0 4 4 3 1 3 2 3 4 4 2 4 3 4 1 5 1 2 1 5 5 3 5 8 2 1 2 4 0 0 2 3 3 1 4 1 3 1 3 0 4 3 2 3 2 4 2 5 4 2 2 3 2 2 1 2 2 2 4 2 3 2 3 2 4 3 5 1 2 1 2 2 5 3 2 1 8 2 0 2 2 2 2 7 3 3 3 2 1 3 2 3 4 3 2 2 3 3 1 4 4 1 3 2 2 2 4 5 3 1 2 3 4 3 1 2 3 \n",
      "\n"
     ]
    }
   ],
   "source": [
    "with open('output_files/profile_dict.txt', 'r') as f:\n",
    "    print(f.read())"
   ]
  },
  {
   "cell_type": "code",
   "execution_count": null,
   "id": "e96fa4fe",
   "metadata": {},
   "outputs": [],
   "source": []
  }
 ],
 "metadata": {
  "kernelspec": {
   "display_name": "Python 3",
   "language": "python",
   "name": "python3"
  },
  "language_info": {
   "codemirror_mode": {
    "name": "ipython",
    "version": 3
   },
   "file_extension": ".py",
   "mimetype": "text/x-python",
   "name": "python",
   "nbconvert_exporter": "python",
   "pygments_lexer": "ipython3",
   "version": "3.7.6"
  }
 },
 "nbformat": 4,
 "nbformat_minor": 5
}
